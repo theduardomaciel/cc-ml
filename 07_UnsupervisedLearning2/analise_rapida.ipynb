{
 "cells": [
  {
   "cell_type": "markdown",
   "id": "d5dab3f1",
   "metadata": {},
   "source": [
    "# 🚀 Análise Rápida - Perfis de Espessura Epitelial\n",
    "## Clusterização K-Means (Versão Simplificada)\n",
    "\n",
    "Este notebook apresenta uma versão simplificada da análise, ideal para demonstrações rápidas."
   ]
  },
  {
   "cell_type": "code",
   "execution_count": null,
   "id": "971a7d6a",
   "metadata": {},
   "outputs": [],
   "source": [
    "# Importações\n",
    "from kmeans_clustering import KMeansEpithelialClusterer\n",
    "from optimization import KOptimizer\n",
    "from presentation import ClientPresentation\n",
    "from IPython.display import Image, display\n",
    "import warnings\n",
    "warnings.filterwarnings('ignore')\n",
    "\n",
    "print(\"✅ Módulos carregados com sucesso!\")"
   ]
  },
  {
   "cell_type": "markdown",
   "id": "6c2f916a",
   "metadata": {},
   "source": [
    "## 🔍 Passo 1: Otimização do Número de Clusters"
   ]
  },
  {
   "cell_type": "code",
   "execution_count": null,
   "id": "cc6461c9",
   "metadata": {},
   "outputs": [],
   "source": [
    "# Carregar dados e otimizar K\n",
    "clusterer = KMeansEpithelialClusterer()\n",
    "df = clusterer.load_and_select_data('data/RTVue_20221110_MLClass.csv')\n",
    "df_clean = clusterer.preprocess_data(df)\n",
    "\n",
    "# Otimizar\n",
    "optimizer = KOptimizer(k_range=(2, 11))\n",
    "df_metrics, k_optimal = optimizer.optimize(df_clean)\n",
    "optimizer.plot_optimization(df_metrics)\n",
    "\n",
    "print(f\"\\n🏆 K ÓTIMO: {k_optimal}\")"
   ]
  },
  {
   "cell_type": "code",
   "execution_count": null,
   "id": "1eae3ee9",
   "metadata": {},
   "outputs": [],
   "source": [
    "# Visualizar gráfico de otimização\n",
    "display(Image('results/k_optimization.png'))"
   ]
  },
  {
   "cell_type": "markdown",
   "id": "ca7b6974",
   "metadata": {},
   "source": [
    "## ⚙️ Passo 2: Clusterização com K Ótimo"
   ]
  },
  {
   "cell_type": "code",
   "execution_count": null,
   "id": "29a69ad0",
   "metadata": {},
   "outputs": [],
   "source": [
    "# Executar clusterização completa\n",
    "clusterer = KMeansEpithelialClusterer(n_clusters=k_optimal)\n",
    "df_result, df_cluster_info, metrics = clusterer.fit('data/RTVue_20221110_MLClass.csv')\n",
    "clusterer.save_results(df_result)"
   ]
  },
  {
   "cell_type": "markdown",
   "id": "3b578818",
   "metadata": {},
   "source": [
    "## 📊 Passo 3: Visualizações"
   ]
  },
  {
   "cell_type": "code",
   "execution_count": null,
   "id": "4e575ef7",
   "metadata": {},
   "outputs": [],
   "source": [
    "# Gerar todas as visualizações\n",
    "presentation = ClientPresentation()\n",
    "presentation.generate_all(df_result, df_cluster_info)"
   ]
  },
  {
   "cell_type": "code",
   "execution_count": null,
   "id": "c23af4f6",
   "metadata": {},
   "outputs": [],
   "source": [
    "# Perfis Radiais\n",
    "print(\"📊 PERFIS RADIAIS DOS CLUSTERS\")\n",
    "display(Image('results/kmeans_profiles.png'))"
   ]
  },
  {
   "cell_type": "code",
   "execution_count": null,
   "id": "62993567",
   "metadata": {},
   "outputs": [],
   "source": [
    "# Resumo Executivo\n",
    "print(\"📋 RESUMO EXECUTIVO\")\n",
    "display(Image('results/01_executive_summary.png'))"
   ]
  },
  {
   "cell_type": "code",
   "execution_count": null,
   "id": "4c268b8d",
   "metadata": {},
   "outputs": [],
   "source": [
    "# Análise Detalhada\n",
    "print(\"🔬 ANÁLISE DETALHADA\")\n",
    "display(Image('results/02_detailed_profiles.png'))"
   ]
  },
  {
   "cell_type": "code",
   "execution_count": null,
   "id": "7af86f21",
   "metadata": {},
   "outputs": [],
   "source": [
    "# Interpretação Clínica\n",
    "print(\"🏥 INTERPRETAÇÃO CLÍNICA\")\n",
    "display(Image('results/03_clinical_interpretation.png'))"
   ]
  },
  {
   "cell_type": "markdown",
   "id": "d72395ad",
   "metadata": {},
   "source": [
    "## ✅ Análise Concluída!\n",
    "\n",
    "Todos os resultados foram salvos na pasta `results/`."
   ]
  }
 ],
 "metadata": {
  "language_info": {
   "name": "python"
  }
 },
 "nbformat": 4,
 "nbformat_minor": 5
}
